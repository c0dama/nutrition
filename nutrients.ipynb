{
 "cells": [
  {
   "cell_type": "code",
   "execution_count": 27,
   "metadata": {},
   "outputs": [
    {
     "name": "stdout",
     "output_type": "stream",
     "text": [
      "<bound method NDFrame.head of                             Bevölkerungsgruppe Geschlecht  \\\n",
      "0   Ewachsene 25 bis unter 51 Jahre (Männlich)   Männlich   \n",
      "1   Ewachsene 25 bis unter 51 Jahre (Männlich)   Männlich   \n",
      "2   Ewachsene 25 bis unter 51 Jahre (Männlich)   Männlich   \n",
      "3   Ewachsene 25 bis unter 51 Jahre (Männlich)   Männlich   \n",
      "4   Ewachsene 25 bis unter 51 Jahre (Männlich)   Männlich   \n",
      "5   Ewachsene 25 bis unter 51 Jahre (Männlich)   Männlich   \n",
      "6   Ewachsene 25 bis unter 51 Jahre (Männlich)   Männlich   \n",
      "7   Ewachsene 25 bis unter 51 Jahre (Männlich)   Männlich   \n",
      "8   Ewachsene 25 bis unter 51 Jahre (Männlich)   Männlich   \n",
      "9   Ewachsene 25 bis unter 51 Jahre (Männlich)   Männlich   \n",
      "10  Ewachsene 25 bis unter 51 Jahre (Männlich)   Männlich   \n",
      "11  Ewachsene 25 bis unter 51 Jahre (Männlich)   Männlich   \n",
      "12  Ewachsene 25 bis unter 51 Jahre (Männlich)   Männlich   \n",
      "13  Ewachsene 25 bis unter 51 Jahre (Männlich)   Männlich   \n",
      "14  Ewachsene 25 bis unter 51 Jahre (Männlich)   Männlich   \n",
      "15  Ewachsene 25 bis unter 51 Jahre (Männlich)   Männlich   \n",
      "16  Ewachsene 25 bis unter 51 Jahre (Männlich)   Männlich   \n",
      "17  Ewachsene 25 bis unter 51 Jahre (Männlich)   Männlich   \n",
      "18  Ewachsene 25 bis unter 51 Jahre (Männlich)   Männlich   \n",
      "19  Ewachsene 25 bis unter 51 Jahre (Männlich)   Männlich   \n",
      "20  Ewachsene 25 bis unter 51 Jahre (Männlich)   Männlich   \n",
      "21  Ewachsene 25 bis unter 51 Jahre (Männlich)   Männlich   \n",
      "22  Ewachsene 25 bis unter 51 Jahre (Männlich)   Männlich   \n",
      "23  Ewachsene 25 bis unter 51 Jahre (Männlich)   Männlich   \n",
      "24  Ewachsene 25 bis unter 51 Jahre (Männlich)   Männlich   \n",
      "25  Ewachsene 25 bis unter 51 Jahre (Männlich)   Männlich   \n",
      "26  Ewachsene 25 bis unter 51 Jahre (Männlich)   Männlich   \n",
      "27  Ewachsene 25 bis unter 51 Jahre (Männlich)   Männlich   \n",
      "28  Ewachsene 25 bis unter 51 Jahre (Männlich)   Männlich   \n",
      "29  Ewachsene 25 bis unter 51 Jahre (Männlich)   Männlich   \n",
      "30  Ewachsene 25 bis unter 51 Jahre (Männlich)   Männlich   \n",
      "\n",
      "                           Nährstoff Referenzwert        Einheit  \n",
      "0                     Energie (kcal)         2700       kcal/Tag  \n",
      "1                            Protein          0,8    g/kg KG/Tag  \n",
      "2              Gesättigte Fettsäuren           10  % der Energie  \n",
      "3    Einfach ungesättigte Fettsäuren           10  % der Energie  \n",
      "4   Mehrfach ungesättigte Fettsäuren          8,5  % der Energie  \n",
      "5                      Kohlenhydrate           50  % der Energie  \n",
      "6                      Ballaststoffe           30          g/Tag  \n",
      "7                          Vitamin A          850     µg-RAE/Tag  \n",
      "8             Vitamin D (Calciferol)           20         µg/Tag  \n",
      "9                          Vitamin E           14         mg/Tag  \n",
      "10                         Vitamin K           70         µg/Tag  \n",
      "11                Vitamin B1 Thiamin          1,2         mg/Tag  \n",
      "12             Vitamin B2 Riboflavin          1,4         mg/Tag  \n",
      "13                 Vitamin B3 Niacin           15         mg/Tag  \n",
      "14            Vitamin B6 (Pyridoxin)          1,6         mg/Tag  \n",
      "15                Vitamin B9 (Folat)          300         µg/Tag  \n",
      "16       Vitamin B5 (Pantothensäure)            5         mg/Tag  \n",
      "17                 Vitamin B7 Biotin           40         µg/Tag  \n",
      "18          Vitamin B12 (Cobalamine)          4,0         µg/Tag  \n",
      "19        Vitamin C (Ascorbinsaeure)          110         mg/Tag  \n",
      "20                           Natrium         1500         mg/Tag  \n",
      "21                           Chlorid         2300         mg/Tag  \n",
      "22                            Kalium         4000         mg/Tag  \n",
      "23                           Calcium         1000         mg/Tag  \n",
      "24                          Phosphor          700         mg/Tag  \n",
      "25                         Magnesium          350         mg/Tag  \n",
      "26                             Eisen           10         mg/Tag  \n",
      "27                               Jod          200         µg/Tag  \n",
      "28                           Fluorid          3,8         mg/Tag  \n",
      "29                              Zink           14         mg/Tag  \n",
      "30                             Selen           70         µg/Tag  >\n",
      "Index(['Energie, Kilojoule (kJ)', 'Energie (kcal)', 'Fett, total (g)',\n",
      "       'Fettsaeuren, gesaettigt (g)', 'Fettsaeuren, einfach ungesaettigt (g)',\n",
      "       'Fettsaeuren, mehrfach ungesaettigt (g)', 'Cholesterin (mg)',\n",
      "       'Kohlenhydrate, verfuegbar (g)', 'Zucker (g)', 'Staerke (g)',\n",
      "       'Ballaststoffe', 'Protein (g)', 'Salz (NaCl) (g)',\n",
      "       'Vitamin A-Aktivitaet, RE (µg-RE)', 'Vitamin A', 'Retinol (µg)',\n",
      "       'Betacarotin-Aktivitaet (µg-BCE)', 'Betacarotin (µg)',\n",
      "       'Vitamin B1 Thiamin', 'Vitamin B2 Riboflavin', 'Vitamin B6 (Pyridoxin)',\n",
      "       'Vitamin B12 (Cobalamine)', 'Vitamin B3 Niacin', 'Vitamin B9 (Folat)',\n",
      "       'Vitamin B5 (Pantothensäure)', 'Vitamin C (Ascorbinsaeure)',\n",
      "       'Vitamin D (Calciferol)', 'Vitamin E', 'Kalium', 'Natrium', 'Chlorid',\n",
      "       'Calcium', 'Magnesium', 'Phosphor', 'Eisen', 'Jod', 'Zink', 'Selen'],\n",
      "      dtype='object')\n"
     ]
    }
   ],
   "source": [
    "import pandas as pd\n",
    "import numpy as np\n",
    "\n",
    "male_51 = pd.read_csv(\"male-51.csv\",delimiter=\";\")\n",
    "\n",
    "nutrient_table = pd.read_csv(\"/home/junglist/Dokumente/coding/nutrients/nutrients.csv\", delimiter=\";\", index_col=0)\n",
    "nutrient_table = nutrient_table.drop([\"Kategorie\"], axis=1)\n",
    "\n",
    "\n",
    "print(male_51.head)\n",
    "print(nutrient_table.columns)\n"
   ]
  },
  {
   "cell_type": "code",
   "execution_count": 85,
   "metadata": {},
   "outputs": [
    {
     "name": "stdout",
     "output_type": "stream",
     "text": [
      "Dieses Gericht enthält 2002.0 Energie (kcal) , referenzwert ist 2700\n",
      "Dieses Gericht enthält 38.60000000000001 Ballaststoffe , referenzwert ist 30\n",
      "Dieses Gericht enthält 85.0 Vitamin A , referenzwert ist 850\n",
      "Dieses Gericht enthält 1.79 Vitamin B1 Thiamin , referenzwert ist 1,2\n",
      "Dieses Gericht enthält 1.165 Vitamin B2 Riboflavin , referenzwert ist 1,4\n",
      "Dieses Gericht enthält 1.4000000000000001 Vitamin B6 (Pyridoxin) , referenzwert ist 1,6\n",
      "Dieses Gericht enthält 0.21 Vitamin B12 (Cobalamine) , referenzwert ist 4,0\n",
      "Dieses Gericht enthält 9.040000000000001 Vitamin B3 Niacin , referenzwert ist 15\n",
      "Dieses Gericht enthält 372.85 Vitamin B9 (Folat) , referenzwert ist 300\n",
      "Dieses Gericht enthält 3.865 Vitamin B5 (Pantothensäure) , referenzwert ist 5\n",
      "Dieses Gericht enthält 195.2 Vitamin C (Ascorbinsaeure) , referenzwert ist 110\n",
      "Dieses Gericht enthält 0.0 Vitamin D (Calciferol) , referenzwert ist 20\n",
      "Dieses Gericht enthält 11.610000000000001 Vitamin E , referenzwert ist 14\n",
      "Dieses Gericht enthält 2330.0 Kalium , referenzwert ist 4000\n",
      "Dieses Gericht enthält 5011.1 Natrium , referenzwert ist 1500\n",
      "Dieses Gericht enthält 7826.5 Chlorid , referenzwert ist 2300\n",
      "Dieses Gericht enthält 664.0 Calcium , referenzwert ist 1000\n",
      "Dieses Gericht enthält 452.0 Magnesium , referenzwert ist 350\n",
      "Dieses Gericht enthält 1673.0 Phosphor , referenzwert ist 700\n",
      "Dieses Gericht enthält 15.899999999999999 Eisen , referenzwert ist 10\n",
      "Dieses Gericht enthält 25.9 Jod , referenzwert ist 200\n",
      "Dieses Gericht enthält 12.649999999999999 Zink , referenzwert ist 14\n",
      "Dieses Gericht enthält 23.8 Selen , referenzwert ist 70\n"
     ]
    }
   ],
   "source": [
    "recipe = {\"Wirsing\":300, \"Tofu\":150, \"Graubrot\":700}\n",
    "def counter(ingredients):\n",
    "    factors = [value / 100 for value in ingredients.values()]\n",
    "    nutrients = []\n",
    "    for key in ingredients:\n",
    "        nutrients.append(nutrient_table.loc[key])\n",
    "    for count, value in enumerate(nutrients):\n",
    "        nutrients[count] = value * factors[count]\n",
    "    nutrients_combined = sum(nutrients)\n",
    "    for i in range(len(nutrients_combined)):\n",
    "        label = nutrients_combined.index[i]\n",
    "        referenz = male_51.query(\"Nährstoff == @label\")[\"Referenzwert\"]\n",
    "        if len(referenz) > 0:\n",
    "            referenz = list(referenz)\n",
    "            print(\"Dieses Gericht enthält \"+ str(nutrients_combined[i]) + \" \" + label + \" , referenzwert ist \" + str(referenz[0]))\n",
    "    #print(nutrients)\n",
    "    \n",
    "counter(recipe)"
   ]
  },
  {
   "cell_type": "code",
   "execution_count": null,
   "metadata": {},
   "outputs": [],
   "source": []
  }
 ],
 "metadata": {
  "kernelspec": {
   "display_name": "Python 3",
   "language": "python",
   "name": "python3"
  },
  "language_info": {
   "codemirror_mode": {
    "name": "ipython",
    "version": 3
   },
   "file_extension": ".py",
   "mimetype": "text/x-python",
   "name": "python",
   "nbconvert_exporter": "python",
   "pygments_lexer": "ipython3",
   "version": "3.10.9"
  },
  "orig_nbformat": 4,
  "vscode": {
   "interpreter": {
    "hash": "e7370f93d1d0cde622a1f8e1c04877d8463912d04d973331ad4851f04de6915a"
   }
  }
 },
 "nbformat": 4,
 "nbformat_minor": 2
}
